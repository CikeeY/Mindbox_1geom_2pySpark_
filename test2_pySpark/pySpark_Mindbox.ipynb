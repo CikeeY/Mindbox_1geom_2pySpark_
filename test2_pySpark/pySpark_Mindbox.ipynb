{
  "nbformat": 4,
  "nbformat_minor": 0,
  "metadata": {
    "colab": {
      "provenance": [],
      "include_colab_link": true
    },
    "kernelspec": {
      "name": "python3",
      "display_name": "Python 3"
    }
  },
  "cells": [
    {
      "cell_type": "markdown",
      "metadata": {
        "id": "view-in-github",
        "colab_type": "text"
      },
      "source": [
        "<a href=\"https://colab.research.google.com/github/CikeeY/Mindbox_1geom_2pySpark_/blob/main/pySpark_Mindbox.ipynb\" target=\"_parent\"><img src=\"https://colab.research.google.com/assets/colab-badge.svg\" alt=\"Open In Colab\"/></a>"
      ]
    },
    {
      "metadata": {
        "id": "RgbtUdQNv-TK"
      },
      "cell_type": "code",
      "source": [
        "!apt-get install openjdk-8-jdk-headless -qq > /dev/null\n",
        "!wget -q https://mirror.its.dal.ca/apache/spark/spark-3.5.0/spark-3.5.0-bin-hadoop3.tgz\n",
        "!tar xvf spark-3.5.0-bin-hadoop3.tgz\n",
        "!pip install -q findspark"
      ],
      "execution_count": null,
      "outputs": []
    },
    {
      "metadata": {
        "id": "AJc_O-34weud"
      },
      "cell_type": "code",
      "source": [
        "import os"
      ],
      "execution_count": 2,
      "outputs": []
    },
    {
      "metadata": {
        "id": "dCItH-BszUxV"
      },
      "cell_type": "code",
      "source": [
        "os.environ[\"JAVA_HOME\"] = \"/usr/lib/jvm/java-8-openjdk-amd64\"\n",
        "os.environ[\"SPARK_HOME\"] = \"/content/spark-3.5.0-bin-hadoop3\""
      ],
      "execution_count": 3,
      "outputs": []
    },
    {
      "metadata": {
        "id": "4dDKF5ttxGP4"
      },
      "cell_type": "code",
      "source": [
        "import findspark\n",
        "findspark.init()"
      ],
      "execution_count": 4,
      "outputs": []
    },
    {
      "metadata": {
        "id": "k25gV_d0xI2D"
      },
      "cell_type": "code",
      "source": [
        "from pyspark.sql import SparkSession\n",
        "spark = SparkSession.builder.master(\"local[*]\").getOrCreate()"
      ],
      "execution_count": 5,
      "outputs": []
    },
    {
      "metadata": {
        "id": "-GRBFoUT1r8a",
        "colab": {
          "base_uri": "https://localhost:8080/"
        },
        "outputId": "ab86ae48-6b2e-4988-f597-b6ef6b5af1b3"
      },
      "cell_type": "code",
      "source": [
        "Products = spark.createDataFrame([\n",
        "    ('1', 'product_1'),\n",
        "    ('2', 'product_2'),\n",
        "    ('3', 'product_3'),\n",
        "    ('4', 'product_4'),\n",
        "    ('5', 'product_5'), ],\n",
        "    ['key', 'nameProduct'])\n",
        "Products.createOrReplaceTempView(\"Products\")\n",
        "\n",
        "Categories = spark.createDataFrame([\n",
        "    ('1', 'category_1'),\n",
        "    ('2', 'category_2'),\n",
        "    ('3', 'category_3'),\n",
        "    ('4', 'category_4'),\n",
        "    ('5', 'category_5'), ],\n",
        "    ['key', 'nameCategory'])\n",
        "Categories.createOrReplaceTempView(\"Categories\")\n",
        "\n",
        "Dependencies = spark.createDataFrame([\n",
        "    ('1', '1'),\n",
        "    ('1', '2'),\n",
        "    ('2', '2'),\n",
        "    ('2', '3'),\n",
        "    ('3', '3'),\n",
        "    ('3', '4'),\n",
        "    ('4', '4'),\n",
        "    ('4', '5')],\n",
        "    ['keyProduct', 'keyCategory'])\n",
        "Dependencies.createOrReplaceTempView(\"Dependencies\")\n",
        "\n",
        "spark.sql(\"\"\" SELECT Products.nameProduct, Categories.nameCategory\n",
        "              FROM Products\n",
        "                  LEFT JOIN Dependencies\n",
        "                      ON Products.key=Dependencies.keyProduct\n",
        "                  LEFT JOIN Categories\n",
        "                      ON Categories.key=Dependencies.keyCategory\n",
        "                  ORDER BY Products.nameProduct; \"\"\") \\\n",
        "     .show()"
      ],
      "execution_count": 6,
      "outputs": [
        {
          "output_type": "stream",
          "name": "stdout",
          "text": [
            "+-----------+------------+\n",
            "|nameProduct|nameCategory|\n",
            "+-----------+------------+\n",
            "|  product_1|  category_2|\n",
            "|  product_1|  category_1|\n",
            "|  product_2|  category_3|\n",
            "|  product_2|  category_2|\n",
            "|  product_3|  category_4|\n",
            "|  product_3|  category_3|\n",
            "|  product_4|  category_5|\n",
            "|  product_4|  category_4|\n",
            "|  product_5|        NULL|\n",
            "+-----------+------------+\n",
            "\n"
          ]
        }
      ]
    }
  ]
}
